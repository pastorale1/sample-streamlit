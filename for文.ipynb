{
  "nbformat": 4,
  "nbformat_minor": 0,
  "metadata": {
    "colab": {
      "name": "for文",
      "provenance": [],
      "collapsed_sections": [],
      "authorship_tag": "ABX9TyMj5vWlcyjOfYswNf/UqfIk",
      "include_colab_link": true
    },
    "kernelspec": {
      "name": "python3",
      "display_name": "Python 3"
    },
    "language_info": {
      "name": "python"
    }
  },
  "cells": [
    {
      "cell_type": "markdown",
      "metadata": {
        "id": "view-in-github",
        "colab_type": "text"
      },
      "source": [
        "<a href=\"https://colab.research.google.com/github/pastorale1/sample-streamlit/blob/master/for%E6%96%87.ipynb\" target=\"_parent\"><img src=\"https://colab.research.google.com/assets/colab-badge.svg\" alt=\"Open In Colab\"/></a>"
      ]
    },
    {
      "cell_type": "code",
      "execution_count": null,
      "metadata": {
        "id": "e6tyeVYq_xM1"
      },
      "outputs": [],
      "source": [
        "students = ['Aoki', 'sato', 'SUZUKI', 'tanaka', 'Yamaguti']"
      ]
    },
    {
      "cell_type": "code",
      "source": [
        "new_students =[]\n",
        "for student in students:\n",
        "  new_students.append(student.upper())\n",
        "\n",
        "new_students"
      ],
      "metadata": {
        "colab": {
          "base_uri": "https://localhost:8080/"
        },
        "id": "sE-RS30K_8mB",
        "outputId": "819823bb-5482-4519-acb4-65d69c1f7656"
      },
      "execution_count": null,
      "outputs": [
        {
          "output_type": "execute_result",
          "data": {
            "text/plain": [
              "['AOKI', 'SATO', 'SUZUKI', 'TANAKA', 'YAMAGUTI']"
            ]
          },
          "metadata": {},
          "execution_count": 5
        }
      ]
    },
    {
      "cell_type": "code",
      "source": [
        "n = 6\n",
        "b = [[1]]\n",
        "for i in range(1,n):\n",
        "  c = b[i-1]+[1]\n",
        "  for j in range(1,i):\n",
        "    c[j] = b[i-1][j-1] + b[i-1][j]\n",
        "  b.append(c)\n",
        "  print(b)\n",
        "\n"
      ],
      "metadata": {
        "colab": {
          "base_uri": "https://localhost:8080/"
        },
        "id": "kUqh5DnrWcMW",
        "outputId": "84db777a-2c04-4bc4-f779-281362f28c2a"
      },
      "execution_count": 11,
      "outputs": [
        {
          "output_type": "stream",
          "name": "stdout",
          "text": [
            "[[1], [1, 1]]\n",
            "[[1], [1, 1], [1, 2, 1]]\n",
            "[[1], [1, 1], [1, 2, 1], [1, 3, 3, 1]]\n",
            "[[1], [1, 1], [1, 2, 1], [1, 3, 3, 1], [1, 4, 6, 4, 1]]\n",
            "[[1], [1, 1], [1, 2, 1], [1, 3, 3, 1], [1, 4, 6, 4, 1], [1, 5, 10, 10, 5, 1]]\n"
          ]
        }
      ]
    },
    {
      "cell_type": "code",
      "source": [
        "def bino(n, k):\n",
        "  if k==0:\n",
        "    return 1\n",
        "  elif n==k:\n",
        "    return 1\n",
        "  else:\n",
        "    return bino(n-1, k-1) + bino(n-1, k) \n",
        "\n",
        "n = 7\n",
        "[ bino(n, i) for i in range(n+1)] \n"
      ],
      "metadata": {
        "id": "GtR3mz31XcBQ",
        "colab": {
          "base_uri": "https://localhost:8080/"
        },
        "outputId": "eec84628-bec9-4187-fb52-ccb923d4ccb5"
      },
      "execution_count": 19,
      "outputs": [
        {
          "output_type": "execute_result",
          "data": {
            "text/plain": [
              "[1, 7, 21, 35, 35, 21, 7, 1]"
            ]
          },
          "metadata": {},
          "execution_count": 19
        }
      ]
    },
    {
      "cell_type": "code",
      "source": [
        ""
      ],
      "metadata": {
        "id": "VKjj96nLfLK2"
      },
      "execution_count": null,
      "outputs": []
    }
  ]
}